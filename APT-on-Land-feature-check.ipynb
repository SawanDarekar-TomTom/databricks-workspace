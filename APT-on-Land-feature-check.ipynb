{
 "cells": [
  {
   "cell_type": "code",
   "execution_count": 0,
   "metadata": {
    "application/vnd.databricks.v1+cell": {
     "cellMetadata": {
      "byteLimit": 2048000,
      "rowLimit": 10000
     },
     "inputWidgets": {},
     "nuid": "5d3ef420-6e46-4e6b-8e2a-6c9329cb71a8",
     "showTitle": false,
     "tableResultSettingsMap": {},
     "title": ""
    }
   },
   "outputs": [],
   "source": [
    "%scala\n",
    "\n",
    "import com.tomtom.orbis.io.spark.model.OrbisElement;\n",
    "import org.apache.spark.api.java.function.FilterFunction;\n",
    "import org.apache.spark.sql.functions\n",
    "import com.tomtom.addressing.bulk.commons.config.SourceConfigLoader\n",
    "import org.apache.sedona.spark.SedonaContext\n",
    "import org.apache.sedona.viz.core.Serde.SedonaVizKryoRegistrator\n",
    "\n",
    "val session = SedonaContext.builder()\n",
    "            .config(\"spark.kryo.registrator\", classOf[SedonaVizKryoRegistrator].getName)\n",
    "            .appName(\"dbscanOnAptSnapshot\")\n",
    "            .getOrCreate()\n",
    "val spark = SedonaContext.create(session)\n",
    "implicit val sparky = spark\n",
    "\n",
    "val aptDataset = spark.sql(\"\"\"\n",
    "    SELECT *\n",
    "    FROM \n",
    "    preprocess_dev.checks_input_features\n",
    "\"\"\").as(\"apt\").withColumn(\"apt_geom\", functions.expr(\"ST_GeomFromText(apt.location)\"));\n",
    "\n",
    "val aerodromeDataset = spark.sql(\"\"\"\n",
    "    SELECT *\n",
    "    FROM \n",
    "    preprocess_dev.layer_19174\n",
    "\"\"\").withColumn(\"visualization_geom\", functions.expr(\"ST_GeomFromText(wkt)\"))\n",
    "\n",
    "val bfpDataset = spark.sql(\"\"\"\n",
    "    SELECT *\n",
    "    FROM \n",
    "    preprocess_dev.layer_53801\n",
    "\"\"\")\n",
    "\n",
    "\n",
    "val visualizationOfInterestDataset = spark.sql(\"\"\"\n",
    "    SELECT *\n",
    "    FROM \n",
    "    preprocess_dev.layer_10698\n",
    "\"\"\")\n",
    "\n",
    "println(s\"aptDataset:${aptDataset.count}\")\n",
    "println(s\"aerodromeDataset:${aerodromeDataset.count}\")\n",
    "println(s\"bfpDataset:${bfpDataset.count}\")\n",
    "println(s\"visualizationOfInterestDataset:${visualizationOfInterestDataset.count}\")"
   ]
  },
  {
   "cell_type": "code",
   "execution_count": 0,
   "metadata": {
    "application/vnd.databricks.v1+cell": {
     "cellMetadata": {
      "byteLimit": 2048000,
      "rowLimit": 10000
     },
     "inputWidgets": {},
     "nuid": "74520af5-533a-44c0-825c-7eef29045b0f",
     "showTitle": false,
     "tableResultSettingsMap": {},
     "title": ""
    }
   },
   "outputs": [],
   "source": [
    "%scala\n",
    "import org.apache.spark.sql.functions\n",
    "import org.apache.spark.sql.functions.when\n",
    "import org.apache.spark.sql.functions.col\n",
    "import com.tomtom.addressing.bulk.commons.config.SourceConfigLoader\n",
    "import org.apache.sedona.spark.SedonaContext\n",
    "import org.apache.sedona.viz.core.Serde.SedonaVizKryoRegistrator\n",
    "\n",
    "val session = SedonaContext.builder()\n",
    "            .config(\"spark.kryo.registrator\", classOf[SedonaVizKryoRegistrator].getName)\n",
    "            .appName(\"dbscanOnAptSnapshot\")\n",
    "            .getOrCreate()\n",
    "val spark = SedonaContext.create(session)\n",
    "implicit val sparky = spark\n",
    "\n",
    "val APT_ON_RUNWAY = \"apt_on_runway\";\n",
    "val APT_ON_AERODROME = \"apt_on_aerodrome\";\n",
    "val APT_ON_BFP = \"apt_on_bfp_inside_aerodrome\";\n",
    "val APT_ON_VIS_OF_INTEREST = \"apt_on_vis_of_interest\";\n",
    "val APT_VISUALIZATION_ID = \"apt.visualization_id\";\n",
    "val APT_APT_GEOM = \"apt.apt_geom\";\n",
    "val APT_FEATURE_ID = \"apt.featureId\";\n",
    "val FEATURE_ID = \"featureId\";\n",
    "val APT_GEOM = \"apt_geom\";\n",
    "val VISUALIZATION_ID = \"visualization_id\";\n",
    "val VISUALIZATION_GEOM = \"visualization_geom\";\n",
    "val RUNWAY_ID = \"runway_id\";\n",
    "\n",
    "val aptOnAerodromeDataset = aptDataset.as(\"apt\")\n",
    "                .join(aerodromeDataset.as(\"visualization\"), functions.expr(\"ST_Intersects(visualization.visualization_geom, apt.apt_geom)\"), \"inner\")\n",
    "                .withColumn(APT_ON_AERODROME, when(col(\"visualization.visualization_geom\") === null, false).otherwise(true))\n",
    "                // .select(\n",
    "                //         col(APT_FEATURE_ID).as(FEATURE_ID),\n",
    "                //         col(APT_APT_GEOM).as(APT_GEOM),\n",
    "                //         col(\"visualization.id\").as(VISUALIZATION_ID),\n",
    "                //         col(\"visualization.visualization_geom\").as(VISUALIZATION_GEOM),\n",
    "                //         col(APT_ON_AERODROME).as(APT_ON_AERODROME)\n",
    "                // );\n",
    "\n",
    "display(aptOnAerodromeDataset)"
   ]
  },
  {
   "cell_type": "code",
   "execution_count": 0,
   "metadata": {
    "application/vnd.databricks.v1+cell": {
     "cellMetadata": {
      "byteLimit": 2048000,
      "rowLimit": 10000
     },
     "inputWidgets": {},
     "nuid": "c4cce30d-344c-42b8-bfa5-ef6e0e58f707",
     "showTitle": false,
     "tableResultSettingsMap": {},
     "title": ""
    }
   },
   "outputs": [],
   "source": [
    "%scala\n",
    "println(s\"aptOnAerodromeDataset count:${aptOnAerodromeDataset.count}\")"
   ]
  }
 ],
 "metadata": {
  "application/vnd.databricks.v1+notebook": {
   "computePreferences": null,
   "dashboards": [],
   "environmentMetadata": {
    "base_environment": "",
    "environment_version": "4"
   },
   "inputWidgetPreferences": null,
   "language": "python",
   "notebookMetadata": {
    "pythonIndentUnit": 4
   },
   "notebookName": "APT-on-Land-feature-check",
   "widgets": {}
  },
  "language_info": {
   "name": "python"
  }
 },
 "nbformat": 4,
 "nbformat_minor": 0
}
