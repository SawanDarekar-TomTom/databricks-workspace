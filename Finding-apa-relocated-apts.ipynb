{
 "cells": [
  {
   "cell_type": "code",
   "execution_count": 0,
   "metadata": {
    "application/vnd.databricks.v1+cell": {
     "cellMetadata": {
      "byteLimit": 2048000,
      "rowLimit": 10000
     },
     "inputWidgets": {},
     "nuid": "feb3876d-6807-460f-8ebe-491997f8e382",
     "showTitle": false,
     "tableResultSettingsMap": {},
     "title": ""
    }
   },
   "outputs": [],
   "source": [
    "apt_snapshot_old = spark.sql(\"\"\"\n",
    "    SELECT *\n",
    "    FROM \n",
    "    my_database.apt_snapshot_revision_35318151_14533 ---APR_snapshot\n",
    "    -- my_database.apt_snapshot_revision_32248273_14533 ----Latest snaphot\n",
    "    --from my_database.apt_snapshot_revision_19280027_14533 ----OLD snapsht\n",
    "\"\"\")"
   ]
  },
  {
   "cell_type": "code",
   "execution_count": 0,
   "metadata": {
    "application/vnd.databricks.v1+cell": {
     "cellMetadata": {
      "byteLimit": 2048000,
      "rowLimit": 10000
     },
     "inputWidgets": {},
     "nuid": "1e77e4f3-72f9-4fb1-a13f-e96077f3add2",
     "showTitle": false,
     "tableResultSettingsMap": {},
     "title": ""
    }
   },
   "outputs": [],
   "source": [
    "from pyspark.sql import functions as F\n",
    "\n",
    "def convert_to_unsigned(high, low):\n",
    "    layer_id = 14533\n",
    "    unsigned_high = int(high) & ((1 << 64) - 1)\n",
    "    unsigned_low = int(low) & ((1 << 64) - 1)\n",
    "    return f\"{layer_id}_{unsigned_high}_{unsigned_low}\"\n",
    "\n",
    "\n",
    "# Assuming df is your DataFrame\n",
    "apt_snapshot_old = apt_snapshot_old.withColumn(\"unsigned_id\", F.udf(convert_to_unsigned, \"string\")( \"id.high\", \"id.low\"))\n",
    "apt_snapshot_old_apa = apt_snapshot_old.filter(F.expr(\"exists(tags, tag -> tag.tagKey.key = 'metadata:apa:improvement')\"))\n",
    "\n"
   ]
  },
  {
   "cell_type": "code",
   "execution_count": 0,
   "metadata": {
    "application/vnd.databricks.v1+cell": {
     "cellMetadata": {
      "byteLimit": 2048000,
      "rowLimit": 10000
     },
     "inputWidgets": {},
     "nuid": "b919f8f1-7bfd-4a41-9c00-6d4389f72118",
     "showTitle": false,
     "tableResultSettingsMap": {},
     "title": ""
    }
   },
   "outputs": [],
   "source": [
    "apt_snapshot_new = spark.sql(\"\"\"\n",
    "    SELECT *\n",
    "    FROM \n",
    "    my_database.apt_snapshot_revision_35390657_14533 \n",
    "\"\"\")\n",
    " \n",
    " # Assuming df is your DataFrame\n",
    "apt_snapshot_new = apt_snapshot_new.withColumn(\"unsigned_id\", F.udf(convert_to_unsigned, \"string\")( \"id.high\", \"id.low\"))\n",
    "apt_snapshot_new_apa = apt_snapshot_new.filter(F.expr(\"exists(tags, tag -> tag.tagKey.key = 'metadata:apa:improvement')\"))\n"
   ]
  },
  {
   "cell_type": "code",
   "execution_count": 0,
   "metadata": {
    "application/vnd.databricks.v1+cell": {
     "cellMetadata": {
      "byteLimit": 2048000,
      "rowLimit": 10000
     },
     "inputWidgets": {},
     "nuid": "e3fe5e52-4d69-4401-9c6d-658e50ce24dd",
     "showTitle": false,
     "tableResultSettingsMap": {},
     "title": ""
    }
   },
   "outputs": [],
   "source": [
    "print(f\"apt old count : {apt_snapshot_old.count()}\")\n",
    "print(f\"apt new count : {apt_snapshot_new.count()}\")\n",
    "print(f\"apa improvement old count : {apt_snapshot_old_apa.count()}\")\n",
    "print(f\"apa improvement new count : {apt_snapshot_new_apa.count()}\")"
   ]
  },
  {
   "cell_type": "code",
   "execution_count": 0,
   "metadata": {
    "application/vnd.databricks.v1+cell": {
     "cellMetadata": {
      "byteLimit": 2048000,
      "rowLimit": 10000
     },
     "inputWidgets": {},
     "nuid": "4357168d-a085-4b3e-a77d-3be16f61d385",
     "showTitle": false,
     "tableResultSettingsMap": {},
     "title": ""
    }
   },
   "outputs": [],
   "source": [
    "## Find the relocated apt exist in old snapshot and does not exist in new snapshot\n",
    "\n",
    "delta_apa = apt_snapshot_old_apa.join(apt_snapshot_new_apa, \"unsigned_id\", \"leftanti\")\n",
    "\n",
    "display(delta_apa)"
   ]
  },
  {
   "cell_type": "code",
   "execution_count": 0,
   "metadata": {
    "application/vnd.databricks.v1+cell": {
     "cellMetadata": {
      "byteLimit": 2048000,
      "rowLimit": 10000
     },
     "inputWidgets": {},
     "nuid": "6ae297da-d38a-4247-afa8-fb60c0163b1c",
     "showTitle": false,
     "tableResultSettingsMap": {},
     "title": ""
    }
   },
   "outputs": [],
   "source": [
    "## Count of missing relocated apt\n",
    "\n",
    "# apt_snapshot_revision_35042875_14533 vs apt_snapshot_revision_35318151_14533 difference : 2300\n",
    "\n",
    "delta_apa.select(\"unsigned_id\").distinct().count()"
   ]
  },
  {
   "cell_type": "code",
   "execution_count": 0,
   "metadata": {
    "application/vnd.databricks.v1+cell": {
     "cellMetadata": {
      "byteLimit": 2048000,
      "rowLimit": 10000
     },
     "inputWidgets": {},
     "nuid": "a7b9f0b1-f183-43dd-accd-23277b447ad7",
     "showTitle": false,
     "tableResultSettingsMap": {},
     "title": ""
    }
   },
   "outputs": [],
   "source": [
    "delta_apa.select(\"lat\", \"lng\").distinct().count()"
   ]
  },
  {
   "cell_type": "code",
   "execution_count": 0,
   "metadata": {
    "application/vnd.databricks.v1+cell": {
     "cellMetadata": {
      "byteLimit": 2048000,
      "rowLimit": 10000
     },
     "inputWidgets": {},
     "nuid": "1afc15ee-65f4-4c5c-8120-759d7540ca65",
     "showTitle": false,
     "tableResultSettingsMap": {},
     "title": ""
    }
   },
   "outputs": [],
   "source": [
    "matching_apa = apt_snapshot_old_apa.alias(\"old\").join(apt_snapshot_new_apa.alias(\"new\"), \"unsigned_id\", \"left\")\n",
    "display(matching_apa)"
   ]
  },
  {
   "cell_type": "code",
   "execution_count": 0,
   "metadata": {
    "application/vnd.databricks.v1+cell": {
     "cellMetadata": {
      "byteLimit": 2048000,
      "rowLimit": 10000
     },
     "inputWidgets": {},
     "nuid": "9325c5d5-805c-4589-805e-7375756b9f4b",
     "showTitle": false,
     "tableResultSettingsMap": {},
     "title": ""
    }
   },
   "outputs": [],
   "source": [
    "# find not matched\n",
    "not_matched_apt = matching_apa.withColumn(\"lat_lon_match\", F.expr(\"old.lat = new.lat AND old.lng = new.lng\")).filter(F.expr(\"lat_lon_match = false\"))\n",
    "\n",
    "display(not_matched_apt)"
   ]
  },
  {
   "cell_type": "code",
   "execution_count": 0,
   "metadata": {
    "application/vnd.databricks.v1+cell": {
     "cellMetadata": {
      "byteLimit": 2048000,
      "rowLimit": 10000
     },
     "inputWidgets": {},
     "nuid": "5408716b-6de7-4a52-b55e-56ff179f7988",
     "showTitle": false,
     "tableResultSettingsMap": {},
     "title": ""
    }
   },
   "outputs": [],
   "source": [
    "# filter on delta based on unsinged_id 14533_14594831958515712000_14839047867195262075\n",
    "\n",
    "delta_apa.filter(F.expr(\"unsigned_id = '14533_14594831958515712000_14839047867195262075'\")).display()"
   ]
  }
 ],
 "metadata": {
  "application/vnd.databricks.v1+notebook": {
   "computePreferences": null,
   "dashboards": [],
   "environmentMetadata": {
    "base_environment": "",
    "environment_version": "2"
   },
   "inputWidgetPreferences": null,
   "language": "python",
   "notebookMetadata": {
    "pythonIndentUnit": 4
   },
   "notebookName": "Finding-apa-relocated-apts",
   "widgets": {}
  },
  "language_info": {
   "name": "python"
  }
 },
 "nbformat": 4,
 "nbformat_minor": 0
}
