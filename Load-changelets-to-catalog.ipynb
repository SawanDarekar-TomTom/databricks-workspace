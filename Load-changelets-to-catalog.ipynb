{
 "cells": [
  {
   "cell_type": "code",
   "execution_count": 0,
   "metadata": {
    "application/vnd.databricks.v1+cell": {
     "cellMetadata": {
      "byteLimit": 2048000,
      "rowLimit": 10000
     },
     "inputWidgets": {},
     "nuid": "7ff1ca84-f72a-40ac-bc2a-36cf3e4e9ff7",
     "showTitle": false,
     "tableResultSettingsMap": {},
     "title": ""
    }
   },
   "outputs": [],
   "source": [
    "%scala\n",
    "import com.tomtom.orbis.poi.aqua.pipeline.routingpoint.jobs.correctnessjobs.addressLocationCorrection.service.load.ChangeletReader\n",
    "import com.tomtom.openmaps.databricks.common.config.Settings\n",
    "\n",
    "implicit val sparky = spark\n",
    " \n",
    "val evironment = \"APT_MERONE_PROD\"\n",
    "\n",
    "implicit val settings: Settings = Settings.forEnvironment(evironment)\n",
    "\n",
    "val changeletReader: ChangeletReader = new ChangeletReader()\n",
    "\n",
    "changeletReader.readChangelets(14533, 30000000, 35390657, \"Overwrite\", \"dc_output.seaco_5070_changelets_data\")"
   ]
  }
 ],
 "metadata": {
  "application/vnd.databricks.v1+notebook": {
   "computePreferences": null,
   "dashboards": [],
   "environmentMetadata": {
    "base_environment": "",
    "environment_version": "3"
   },
   "inputWidgetPreferences": null,
   "language": "python",
   "notebookMetadata": {
    "pythonIndentUnit": 4
   },
   "notebookName": "Load-changelets-to-catalog",
   "widgets": {}
  },
  "language_info": {
   "name": "python"
  }
 },
 "nbformat": 4,
 "nbformat_minor": 0
}
