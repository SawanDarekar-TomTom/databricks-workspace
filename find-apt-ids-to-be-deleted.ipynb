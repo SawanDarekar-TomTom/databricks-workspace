{
 "cells": [
  {
   "cell_type": "code",
   "execution_count": 0,
   "metadata": {
    "application/vnd.databricks.v1+cell": {
     "cellMetadata": {
      "byteLimit": 2048000,
      "rowLimit": 10000
     },
     "inputWidgets": {},
     "nuid": "37d5524b-6bfb-48d2-937f-852730a079a4",
     "showTitle": false,
     "tableResultSettingsMap": {},
     "title": ""
    }
   },
   "outputs": [],
   "source": [
    "apt_Data = spark.sql(\"\"\"\n",
    "    SELECT *\n",
    "    FROM \n",
    "    preprocess_dev.layer_27240\n",
    "\"\"\")\n",
    "display(apt_Data)"
   ]
  },
  {
   "cell_type": "code",
   "execution_count": 0,
   "metadata": {
    "application/vnd.databricks.v1+cell": {
     "cellMetadata": {
      "byteLimit": 2048000,
      "rowLimit": 10000
     },
     "inputWidgets": {},
     "nuid": "567561af-225d-4067-9417-40a87354a127",
     "showTitle": false,
     "tableResultSettingsMap": {},
     "title": ""
    }
   },
   "outputs": [],
   "source": [
    "from pyspark.sql import functions as F\n",
    "\n",
    "def convert_to_unsigned(layer_id, high, low):\n",
    "    # layer_id = 14533\n",
    "    unsigned_high = int(high) & ((1 << 64) - 1)\n",
    "    unsigned_low = int(low) & ((1 << 64) - 1)\n",
    "    return f\"{layer_id}:{unsigned_high}:{unsigned_low}\"\n",
    "\n",
    "\n",
    "# Assuming df is your DataFrame\n",
    "apt_Data_with_unsigned_id = apt_Data.withColumn(\"unsigned_id\", F.udf(convert_to_unsigned, \"string\")(\"id.layerId\",\"id.high\", \"id.low\"))\n",
    "\n",
    "display(apt_Data_with_unsigned_id)"
   ]
  },
  {
   "cell_type": "code",
   "execution_count": 0,
   "metadata": {
    "application/vnd.databricks.v1+cell": {
     "cellMetadata": {
      "byteLimit": 2048000,
      "rowLimit": 10000
     },
     "inputWidgets": {},
     "nuid": "77c5da17-7b6d-4ca5-8503-39266cabe8ac",
     "showTitle": false,
     "tableResultSettingsMap": {
      "0": {
       "dataGridStateBlob": "{\"version\":1,\"tableState\":{\"columnPinning\":{\"left\":[\"#row_number#\"],\"right\":[]},\"columnSizing\":{},\"columnVisibility\":{}},\"settings\":{\"columns\":{}},\"syncTimestamp\":1757915817635}",
       "filterBlob": null,
       "queryPlanFiltersBlob": null,
       "tableResultIndex": 0
      }
     },
     "title": ""
    }
   },
   "outputs": [],
   "source": [
    "\n",
    "# get country name as coulumn\n",
    "apt_Data_with_unsigned_id = apt_Data_with_unsigned_id.withColumn(\"country_name\", F.expr(\"case when exists(tags, x -> x.tagKey.key = 'metadata:country') then filter(tags, x -> x.tagKey.key = 'metadata:country')[0].value else null end\")).withColumn(\"state_name\", F.expr(\"case when exists(tags, x -> x.tagKey.key = 'addr:state:en-Latn') then filter(tags, x -> x.tagKey.key = 'addr:state:en-Latn')[0].value else null end\"))\n",
    "display(apt_Data_with_unsigned_id)"
   ]
  },
  {
   "cell_type": "code",
   "execution_count": 0,
   "metadata": {
    "application/vnd.databricks.v1+cell": {
     "cellMetadata": {
      "byteLimit": 2048000,
      "rowLimit": 10000
     },
     "inputWidgets": {},
     "nuid": "d6c25ae7-e1db-48c8-ad05-46c7a9913379",
     "showTitle": false,
     "tableResultSettingsMap": {
      "0": {
       "dataGridStateBlob": "{\"version\":1,\"tableState\":{\"columnPinning\":{\"left\":[\"#row_number#\"],\"right\":[]},\"columnSizing\":{},\"columnVisibility\":{}},\"settings\":{\"columns\":{}},\"syncTimestamp\":1757916416001}",
       "filterBlob": null,
       "queryPlanFiltersBlob": null,
       "tableResultIndex": 0
      }
     },
     "title": ""
    }
   },
   "outputs": [],
   "source": [
    "apt_Data_with_unsigned_id.groupBy(\"country_name\", \"state_name\").count().orderBy(\"count\", ascending=False).display()"
   ]
  },
  {
   "cell_type": "code",
   "execution_count": 0,
   "metadata": {
    "application/vnd.databricks.v1+cell": {
     "cellMetadata": {
      "byteLimit": 2048000,
      "rowLimit": 10000
     },
     "inputWidgets": {},
     "nuid": "c27365b2-5430-4773-ace2-6e747a05fe00",
     "showTitle": false,
     "tableResultSettingsMap": {},
     "title": ""
    }
   },
   "outputs": [],
   "source": [
    "from pyspark.sql import functions as F\n",
    "\n",
    "# filter based on country and state_name\n",
    "apt_Data = apt_Data_with_unsigned_id.filter(\"country_name = 'USA'\").filter(\"state_name = 'IL'\")\n",
    "\n",
    "# .filter(\n",
    "#     F.expr(\"exists(tags, x -> x.tagKey.key = 'metadata:country' AND x.value = 'AUT')\")\n",
    "#)\n",
    "# .filter(\n",
    "#     F.expr(\"exists(tags, x -> x.tagKey.key = 'metadata:source:name' AND x.value like '%Geolytica%')\")\n",
    "# )\n",
    "# .filter(\n",
    "#     F.expr(\"exists(tags, x -> x.tagKey.key = 'metadata:source:id' AND x.value = 'Du6RYnGNtcRZFuyf03wib')\")\n",
    "# )\n",
    "print(f\"count: {apt_Data.count()}\")\n",
    "# display(apt_Data_GBR)"
   ]
  },
  {
   "cell_type": "code",
   "execution_count": 0,
   "metadata": {
    "application/vnd.databricks.v1+cell": {
     "cellMetadata": {
      "byteLimit": 2048000,
      "rowLimit": 10000
     },
     "inputWidgets": {},
     "nuid": "8ae6fa1b-4e4f-4f1b-b996-c3dcdef753ea",
     "showTitle": false,
     "tableResultSettingsMap": {},
     "title": ""
    }
   },
   "outputs": [],
   "source": [
    "# apt_Data_GBR_source = apt_Data_GBR.filter(\n",
    "#     F.expr(\"exists(tags, x -> x.tagKey.key = 'metadata:source:id' AND (x.value like '%Du6RYnGNtcRZFuyf03wib%' OR x.value like '%aqt88mW-gcIkgRFs7lz73%'))\")\n",
    "# )\n",
    "# print(f\"GBR source count: {apt_Data_GBR_source.count()}\")\n",
    "# display(apt_Data_GBR_source)"
   ]
  },
  {
   "cell_type": "code",
   "execution_count": 0,
   "metadata": {
    "application/vnd.databricks.v1+cell": {
     "cellMetadata": {
      "byteLimit": 2048000,
      "rowLimit": 10000
     },
     "inputWidgets": {},
     "nuid": "18dfa361-2629-4bf4-91cb-b022ad900241",
     "showTitle": false,
     "tableResultSettingsMap": {},
     "title": ""
    }
   },
   "outputs": [],
   "source": [
    "# distinct_values = apt_Data.selectExpr(\"explode(tags) as tag\") \\\n",
    "#                    .filter(\"tag.tagKey.key = 'metadata:source:id'\") \\\n",
    "#                    .select(\"tag.value\") \\\n",
    "#                    .distinct()\n",
    "\n",
    "# # Show the distinct values\n",
    "# display(distinct_values)"
   ]
  },
  {
   "cell_type": "code",
   "execution_count": 0,
   "metadata": {
    "application/vnd.databricks.v1+cell": {
     "cellMetadata": {
      "byteLimit": 2048000,
      "rowLimit": 10000
     },
     "inputWidgets": {},
     "nuid": "a5baf35a-5285-49a5-a455-9826cff82cf5",
     "showTitle": false,
     "tableResultSettingsMap": {},
     "title": ""
    }
   },
   "outputs": [],
   "source": [
    "dbutils.fs.mounts()"
   ]
  },
  {
   "cell_type": "code",
   "execution_count": 0,
   "metadata": {
    "application/vnd.databricks.v1+cell": {
     "cellMetadata": {
      "byteLimit": 2048000,
      "rowLimit": 10000
     },
     "inputWidgets": {},
     "nuid": "b6ca3c3a-fa30-4e7d-9ff6-6b73cd9c234a",
     "showTitle": false,
     "tableResultSettingsMap": {},
     "title": ""
    }
   },
   "outputs": [],
   "source": [
    "dbutils.fs.unmount(\"/mnt/layers/19174/snapshot\")"
   ]
  },
  {
   "cell_type": "code",
   "execution_count": 0,
   "metadata": {
    "application/vnd.databricks.v1+cell": {
     "cellMetadata": {
      "byteLimit": 2048000,
      "rowLimit": 10000
     },
     "inputWidgets": {},
     "nuid": "e7e2d546-732f-447f-92e6-07369f8eacc0",
     "showTitle": false,
     "tableResultSettingsMap": {},
     "title": ""
    }
   },
   "outputs": [],
   "source": [
    "directory_path = \"/mnt/opas/opas-source\"\n",
    "\n",
    "files = dbutils.fs.ls(directory_path)\n",
    "for file in files:\n",
    "    print(file.name)"
   ]
  },
  {
   "cell_type": "code",
   "execution_count": 0,
   "metadata": {
    "application/vnd.databricks.v1+cell": {
     "cellMetadata": {
      "byteLimit": 2048000,
      "rowLimit": 10000
     },
     "inputWidgets": {},
     "nuid": "4749c028-9f29-4077-9c1f-7875496cd389",
     "showTitle": false,
     "tableResultSettingsMap": {},
     "title": ""
    }
   },
   "outputs": [],
   "source": [
    "# write dataset in csv format\n",
    "apt_Data.select(\"unsigned_id\").coalesce(1).write.mode(\"overwrite\").csv(\"/mnt/opas/opas-source/dev-apt-to-be-deleted/delete_usa_il\")"
   ]
  }
 ],
 "metadata": {
  "application/vnd.databricks.v1+notebook": {
   "computePreferences": null,
   "dashboards": [],
   "environmentMetadata": {
    "base_environment": "",
    "environment_version": "2"
   },
   "inputWidgetPreferences": null,
   "language": "python",
   "notebookMetadata": {
    "pythonIndentUnit": 4
   },
   "notebookName": "find-apt-ids-to-be-deleted",
   "widgets": {}
  },
  "language_info": {
   "name": "python"
  }
 },
 "nbformat": 4,
 "nbformat_minor": 0
}
