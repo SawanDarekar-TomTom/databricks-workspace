{
 "cells": [
  {
   "cell_type": "code",
   "execution_count": 0,
   "metadata": {
    "application/vnd.databricks.v1+cell": {
     "cellMetadata": {
      "byteLimit": 2048000,
      "rowLimit": 10000
     },
     "inputWidgets": {},
     "nuid": "6a05907a-4bf3-49ba-b948-d4872eca0c7b",
     "showTitle": false,
     "tableResultSettingsMap": {},
     "title": ""
    }
   },
   "outputs": [],
   "source": [
    "apt_changlets_Data = spark.sql(\"\"\"\n",
    "    SELECT *\n",
    "    FROM \n",
    "    dc_output.seaco_5070_changelets_data\n",
    "\"\"\")\n",
    "display(apt_changlets_Data)"
   ]
  },
  {
   "cell_type": "code",
   "execution_count": 0,
   "metadata": {
    "application/vnd.databricks.v1+cell": {
     "cellMetadata": {
      "byteLimit": 2048000,
      "rowLimit": 10000
     },
     "inputWidgets": {},
     "nuid": "3f8bfe29-fa8a-4a16-b26e-05f110374ac6",
     "showTitle": false,
     "tableResultSettingsMap": {},
     "title": ""
    }
   },
   "outputs": [],
   "source": [
    "from pyspark.sql import functions as F\n",
    "\n",
    "def convert_to_unsigned(high, low):\n",
    "    layer_id = 14533\n",
    "    unsigned_high = int(high) & ((1 << 64) - 1)\n",
    "    unsigned_low = int(low) & ((1 << 64) - 1)\n",
    "    return f\"{layer_id}_{unsigned_high}_{unsigned_low}\"\n",
    "\n",
    "\n",
    "# Assuming df is your DataFrame\n",
    "apt_changlets_Data_with_unsigned_id = apt_changlets_Data.withColumn(\"unsigned_id\", F.udf(convert_to_unsigned, \"string\")( \"featureId.high\", \"featureId.low\"))\n",
    "display(apt_changlets_Data_with_unsigned_id)"
   ]
  },
  {
   "cell_type": "code",
   "execution_count": 0,
   "metadata": {
    "application/vnd.databricks.v1+cell": {
     "cellMetadata": {
      "byteLimit": 2048000,
      "rowLimit": 10000
     },
     "inputWidgets": {},
     "nuid": "c1f81889-c3db-488e-95a0-c38fc7b7ea05",
     "showTitle": false,
     "tableResultSettingsMap": {},
     "title": ""
    }
   },
   "outputs": [],
   "source": [
    "hn_22_Data = apt_changlets_Data_with_unsigned_id.filter(F.col(\"unsigned_id\") == \"14533_11517816655427207168_15349482073535523071\")\n",
    "\n",
    "display(hn_22_Data)"
   ]
  }
 ],
 "metadata": {
  "application/vnd.databricks.v1+notebook": {
   "computePreferences": null,
   "dashboards": [],
   "environmentMetadata": {
    "base_environment": "",
    "environment_version": "3"
   },
   "inputWidgetPreferences": null,
   "language": "python",
   "notebookMetadata": {
    "pythonIndentUnit": 4
   },
   "notebookName": "find-changelets-for-apt-id",
   "widgets": {}
  },
  "language_info": {
   "name": "python"
  }
 },
 "nbformat": 4,
 "nbformat_minor": 0
}
