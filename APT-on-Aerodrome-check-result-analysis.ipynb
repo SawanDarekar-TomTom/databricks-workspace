{
 "cells": [
  {
   "cell_type": "code",
   "execution_count": 0,
   "metadata": {
    "application/vnd.databricks.v1+cell": {
     "cellMetadata": {
      "byteLimit": 2048000,
      "rowLimit": 10000
     },
     "inputWidgets": {},
     "nuid": "362b14e7-1f62-4cf4-a904-e2bcf9c4aca6",
     "showTitle": false,
     "tableResultSettingsMap": {},
     "title": ""
    }
   },
   "outputs": [],
   "source": [
    "%scala\n",
    "val checks_input_features_dataset = spark.sql(\"\"\"\n",
    "    SELECT *\n",
    "    FROM \n",
    "    preprocess_dev.checks_input_features\n",
    "\"\"\")\n",
    "\n",
    "println(s\"checks_input_features_dataset count: ${checks_input_features_dataset.count}\")"
   ]
  },
  {
   "cell_type": "code",
   "execution_count": 0,
   "metadata": {
    "application/vnd.databricks.v1+cell": {
     "cellMetadata": {
      "byteLimit": 2048000,
      "rowLimit": 10000
     },
     "inputWidgets": {},
     "nuid": "fb3e484f-2400-46d4-8dd7-df65d834d3ec",
     "showTitle": false,
     "tableResultSettingsMap": {},
     "title": ""
    }
   },
   "outputs": [],
   "source": [
    "%scala\n",
    "\n",
    "val checks_results_features_dataset = spark.sql(\"\"\"\n",
    "    SELECT *\n",
    "    FROM \n",
    "    preprocess_dev.checks_results_features\n",
    "\"\"\")\n",
    "\n",
    "display(checks_results_features_dataset)"
   ]
  },
  {
   "cell_type": "code",
   "execution_count": 0,
   "metadata": {
    "application/vnd.databricks.v1+cell": {
     "cellMetadata": {
      "byteLimit": 2048000,
      "rowLimit": 10000
     },
     "inputWidgets": {},
     "nuid": "619fa228-67f3-4014-acd5-dd0422f00448",
     "showTitle": false,
     "tableResultSettingsMap": {},
     "title": ""
    }
   },
   "outputs": [],
   "source": [
    "%scala\n",
    "\n",
    "var grouped_check_names = checks_results_features_dataset.groupBy(\"checkName\").count()\n",
    "\n",
    "display(grouped_check_names)"
   ]
  },
  {
   "cell_type": "code",
   "execution_count": 0,
   "metadata": {
    "application/vnd.databricks.v1+cell": {
     "cellMetadata": {
      "byteLimit": 2048000,
      "rowLimit": 10000
     },
     "inputWidgets": {},
     "nuid": "f9d29f96-a2a4-41bb-b697-cad73c50039b",
     "showTitle": false,
     "tableResultSettingsMap": {
      "0": {
       "dataGridStateBlob": "{\"version\":1,\"tableState\":{\"columnPinning\":{\"left\":[\"#row_number#\"],\"right\":[]},\"columnSizing\":{},\"columnVisibility\":{}},\"settings\":{\"columns\":{}},\"syncTimestamp\":1760959941470}",
       "filterBlob": null,
       "queryPlanFiltersBlob": null,
       "tableResultIndex": 0
      }
     },
     "title": ""
    }
   },
   "outputs": [],
   "source": [
    "%scala\n",
    "grouped_check_names = checks_results_features_dataset.groupBy(\"checkName\", \"isFailed\", \"comment\").count()\n",
    "\n",
    "display(grouped_check_names)"
   ]
  },
  {
   "cell_type": "code",
   "execution_count": 0,
   "metadata": {
    "application/vnd.databricks.v1+cell": {
     "cellMetadata": {
      "byteLimit": 2048000,
      "rowLimit": 10000
     },
     "inputWidgets": {},
     "nuid": "2bd7680e-83e6-43b1-93df-8efa26373756",
     "showTitle": false,
     "tableResultSettingsMap": {},
     "title": ""
    }
   },
   "outputs": [],
   "source": [
    "%scala\n",
    "grouped_check_names = checks_results_features_dataset.groupBy(\"checkName\", \"isFailed\").count()\n",
    "\n",
    "display(grouped_check_names)"
   ]
  },
  {
   "cell_type": "code",
   "execution_count": 0,
   "metadata": {
    "application/vnd.databricks.v1+cell": {
     "cellMetadata": {
      "byteLimit": 2048000,
      "rowLimit": 10000
     },
     "inputWidgets": {},
     "nuid": "9913ca47-b003-4aca-8961-80ec686529bf",
     "showTitle": false,
     "tableResultSettingsMap": {
      "0": {
       "dataGridStateBlob": "{\"version\":1,\"tableState\":{\"columnPinning\":{\"left\":[\"#row_number#\"],\"right\":[]},\"columnSizing\":{},\"columnVisibility\":{}},\"settings\":{\"columns\":{}},\"syncTimestamp\":1760960403317}",
       "filterBlob": null,
       "queryPlanFiltersBlob": null,
       "tableResultIndex": 0
      }
     },
     "title": ""
    }
   },
   "outputs": [],
   "source": [
    "%scala\n",
    "grouped_check_names = checks_results_features_dataset.groupBy(\"checkName\", \"isFailed\", \"comment\").count()\n",
    "\n",
    "display(grouped_check_names)"
   ]
  },
  {
   "cell_type": "code",
   "execution_count": 0,
   "metadata": {
    "application/vnd.databricks.v1+cell": {
     "cellMetadata": {
      "byteLimit": 2048000,
      "rowLimit": 10000
     },
     "inputWidgets": {},
     "nuid": "48956b50-dded-45e2-8f14-88d325867d5e",
     "showTitle": false,
     "tableResultSettingsMap": {},
     "title": ""
    }
   },
   "outputs": [],
   "source": [
    "%scala\n",
    "\n",
    "val aptInsideAerodromeDS = checks_results_features_dataset\n",
    "  .filter(\"checkName == 'APT_INSIDE_AERODROME' AND comment LIKE 'APT located%'\")\n",
    "\n",
    "\n",
    "println(s\"aptInsideAerodromeDS: ${aptInsideAerodromeDS.count}\")\n",
    "display(aptInsideAerodromeDS)"
   ]
  },
  {
   "cell_type": "code",
   "execution_count": 0,
   "metadata": {
    "application/vnd.databricks.v1+cell": {
     "cellMetadata": {
      "byteLimit": 2048000,
      "rowLimit": 10000
     },
     "inputWidgets": {},
     "nuid": "b26bc11f-64d0-42bf-9db8-dbb2b36d9396",
     "showTitle": false,
     "tableResultSettingsMap": {
      "0": {
       "dataGridStateBlob": "{\"version\":1,\"tableState\":{\"columnPinning\":{\"left\":[\"#row_number#\"],\"right\":[]},\"columnSizing\":{},\"columnVisibility\":{}},\"settings\":{\"columns\":{}},\"syncTimestamp\":1760960856893}",
       "filterBlob": null,
       "queryPlanFiltersBlob": null,
       "tableResultIndex": 0
      }
     },
     "title": ""
    }
   },
   "outputs": [],
   "source": [
    "%scala\n",
    "import org.apache.spark.sql.functions.col\n",
    "import org.apache.spark.sql.functions._\n",
    "\n",
    "val aerodromeFailedAptDS = checks_input_features_dataset.as(\"apt\")\n",
    "                .join(aptInsideAerodromeDS.as(\"aptOnAerodrome\"), col(\"apt.featureId\").equalTo(col(\"aptOnAerodrome.featureId\")), \"inner\")\n",
    "                .withColumn(\"aeroddromid\", \n",
    "  regexp_extract(col(\"comment\"), \"APT located (inside aerodrome|on runway): (.+)\", 2)\n",
    ")\n",
    "                .select(col(\"apt.featureId\"),\n",
    "                col(\"apt.apt.location\"),\n",
    "                col(\"aptOnAerodrome.comment\"),\n",
    "                col(\"aeroddromid\"),\n",
    "                col(\"isFailed\"),\n",
    "                )\n",
    "\n",
    "display(aerodromeFailedAptDS)\n",
    "                "
   ]
  },
  {
   "cell_type": "code",
   "execution_count": 0,
   "metadata": {
    "application/vnd.databricks.v1+cell": {
     "cellMetadata": {
      "byteLimit": 2048000,
      "rowLimit": 10000
     },
     "inputWidgets": {},
     "nuid": "6fd15a30-2115-497e-bc7a-34b84822ea1a",
     "showTitle": false,
     "tableResultSettingsMap": {
      "0": {
       "dataGridStateBlob": "{\"version\":1,\"tableState\":{\"columnPinning\":{\"left\":[\"#row_number#\"],\"right\":[]},\"columnSizing\":{},\"columnVisibility\":{}},\"settings\":{\"columns\":{}},\"syncTimestamp\":1760966275188}",
       "filterBlob": null,
       "queryPlanFiltersBlob": null,
       "tableResultIndex": 0
      }
     },
     "title": ""
    }
   },
   "outputs": [],
   "source": [
    "%scala\n",
    "import org.apache.spark.sql.functions.col\n",
    "import com.tomtom.orbis.io.spark.model.Id\n",
    "import java.lang.Long\n",
    "\n",
    "def convertOrbisIdToString(orbisId: Id): String = {\n",
    "  val COLON_SEPARATOR = \":\"\n",
    "  Seq(orbisId.layerId.getOrElse(0).toString, \n",
    "      Long.toUnsignedString(orbisId.high), \n",
    "      Long.toUnsignedString(orbisId.low)).mkString(COLON_SEPARATOR)\n",
    "}\n",
    "\n",
    "// UDF to apply the function to the DataFrame\n",
    "val convertOrbisIdUDF = udf((orbisId: Id) => convertOrbisIdToString(orbisId))\n",
    "\n",
    "val aerodrome_dataset = spark.sql(\"\"\"\n",
    "    SELECT *\n",
    "    FROM \n",
    "    preprocess_dev.layer_19174\n",
    "\"\"\").withColumn(\"orbisIdString\", convertOrbisIdUDF(col(\"id\")))\n",
    ".filter(\"id.layerId != null\")\n",
    ".select(col(\"id\"),col(\"orbisIdString\"),col(\"wkt\"))\n",
    "\n",
    "display(aerodrome_dataset)"
   ]
  },
  {
   "cell_type": "code",
   "execution_count": 0,
   "metadata": {
    "application/vnd.databricks.v1+cell": {
     "cellMetadata": {
      "byteLimit": 2048000,
      "rowLimit": 10000
     },
     "inputWidgets": {},
     "nuid": "7b8324d1-079c-44a9-977e-c524b1448fd5",
     "showTitle": false,
     "tableResultSettingsMap": {
      "0": {
       "dataGridStateBlob": "{\"version\":1,\"tableState\":{\"columnPinning\":{\"left\":[\"#row_number#\"],\"right\":[]},\"columnSizing\":{},\"columnVisibility\":{}},\"settings\":{\"columns\":{}},\"syncTimestamp\":1760967979523}",
       "filterBlob": null,
       "queryPlanFiltersBlob": null,
       "tableResultIndex": 0
      }
     },
     "title": ""
    }
   },
   "outputs": [],
   "source": [
    "%scala\n",
    "import org.apache.spark.sql.functions.col\n",
    "\n",
    "val failedAPTWithAerodrome = aerodromeFailedAptDS.as(\"add\").join(aerodrome_dataset.as(\"pdd\"), col(\"add.aeroddromid\") === col(\"pdd.orbisIdString\"), \"left\").select(col(\"featureId\"),\n",
    "col(\"location\"),\n",
    "col(\"comment\"),\n",
    "col(\"isFailed\"),\n",
    "col(\"aeroddromid\"),\n",
    "col(\"pdd.wkt\"))\n",
    "\n",
    "display(failedAPTWithAerodrome)"
   ]
  }
 ],
 "metadata": {
  "application/vnd.databricks.v1+notebook": {
   "computePreferences": null,
   "dashboards": [],
   "environmentMetadata": {
    "base_environment": "",
    "environment_version": "4"
   },
   "inputWidgetPreferences": null,
   "language": "python",
   "notebookMetadata": {
    "pythonIndentUnit": 4
   },
   "notebookName": "APT-on-Aerodrome-check-result-analysis",
   "widgets": {}
  },
  "language_info": {
   "name": "python"
  }
 },
 "nbformat": 4,
 "nbformat_minor": 0
}
