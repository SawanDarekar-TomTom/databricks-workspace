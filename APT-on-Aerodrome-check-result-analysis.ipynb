{
 "cells": [
  {
   "cell_type": "code",
   "execution_count": 0,
   "metadata": {
    "application/vnd.databricks.v1+cell": {
     "cellMetadata": {
      "byteLimit": 2048000,
      "rowLimit": 10000
     },
     "inputWidgets": {},
     "nuid": "362b14e7-1f62-4cf4-a904-e2bcf9c4aca6",
     "showTitle": false,
     "tableResultSettingsMap": {},
     "title": ""
    }
   },
   "outputs": [],
   "source": [
    "%scala\n",
    "val checks_input_features_dataset = spark.sql(\"\"\"\n",
    "    SELECT *\n",
    "    FROM \n",
    "    preprocess_dev.checks_input_features\n",
    "\"\"\")\n",
    "\n",
    "println(s\"checks_input_features_dataset count: ${checks_input_features_dataset.count}\")"
   ]
  },
  {
   "cell_type": "code",
   "execution_count": 0,
   "metadata": {
    "application/vnd.databricks.v1+cell": {
     "cellMetadata": {
      "byteLimit": 2048000,
      "rowLimit": 10000
     },
     "inputWidgets": {},
     "nuid": "fb3e484f-2400-46d4-8dd7-df65d834d3ec",
     "showTitle": false,
     "tableResultSettingsMap": {},
     "title": ""
    }
   },
   "outputs": [],
   "source": [
    "%scala\n",
    "\n",
    "val checks_results_features_dataset = spark.sql(\"\"\"\n",
    "    SELECT *\n",
    "    FROM \n",
    "    preprocess_dev.checks_results_features\n",
    "\"\"\")\n",
    "\n",
    "display(checks_results_features_dataset)"
   ]
  },
  {
   "cell_type": "code",
   "execution_count": 0,
   "metadata": {
    "application/vnd.databricks.v1+cell": {
     "cellMetadata": {
      "byteLimit": 2048000,
      "rowLimit": 10000
     },
     "inputWidgets": {},
     "nuid": "619fa228-67f3-4014-acd5-dd0422f00448",
     "showTitle": false,
     "tableResultSettingsMap": {},
     "title": ""
    }
   },
   "outputs": [],
   "source": [
    "%scala\n",
    "\n",
    "var grouped_check_names = checks_results_features_dataset.groupBy(\"checkName\").count()\n",
    "\n",
    "display(grouped_check_names)"
   ]
  },
  {
   "cell_type": "code",
   "execution_count": 0,
   "metadata": {
    "application/vnd.databricks.v1+cell": {
     "cellMetadata": {
      "byteLimit": 2048000,
      "rowLimit": 10000
     },
     "inputWidgets": {},
     "nuid": "f9d29f96-a2a4-41bb-b697-cad73c50039b",
     "showTitle": false,
     "tableResultSettingsMap": {},
     "title": ""
    }
   },
   "outputs": [],
   "source": [
    "%scala\n",
    "grouped_check_names = checks_results_features_dataset.groupBy(\"checkName\", \"isFailed\", \"comment\").count()\n",
    "\n",
    "display(grouped_check_names)"
   ]
  },
  {
   "cell_type": "code",
   "execution_count": 0,
   "metadata": {
    "application/vnd.databricks.v1+cell": {
     "cellMetadata": {
      "byteLimit": 2048000,
      "rowLimit": 10000
     },
     "inputWidgets": {},
     "nuid": "9913ca47-b003-4aca-8961-80ec686529bf",
     "showTitle": false,
     "tableResultSettingsMap": {},
     "title": ""
    }
   },
   "outputs": [],
   "source": [
    "%scala\n",
    "grouped_check_names = checks_results_features_dataset.groupBy(\"checkName\", \"isFailed\", \"comment\").count()\n",
    "\n",
    "display(grouped_check_names)"
   ]
  },
  {
   "cell_type": "code",
   "execution_count": 0,
   "metadata": {
    "application/vnd.databricks.v1+cell": {
     "cellMetadata": {
      "byteLimit": 2048000,
      "rowLimit": 10000
     },
     "inputWidgets": {},
     "nuid": "48956b50-dded-45e2-8f14-88d325867d5e",
     "showTitle": false,
     "tableResultSettingsMap": {},
     "title": ""
    }
   },
   "outputs": [],
   "source": [
    "%scala\n",
    "\n",
    "// val aptInsideAerodromeDS = checks_results_features_dataset.filter(\"checkName == 'APT_INSIDE_AERODROME'\").filter(\"isFailed == false and comment like 'APT located inside'\")\n",
    "val aptInsideAerodromeDS = checks_results_features_dataset\n",
    "  .filter(\"checkName == 'APT_INSIDE_AERODROME' AND isFailed == false AND comment LIKE 'APT located inside%'\")\n",
    "\n",
    "\n",
    "println(s\"aptInsideAerodromeDS: ${aptInsideAerodromeDS.count}\")\n",
    "display(aptInsideAerodromeDS)"
   ]
  },
  {
   "cell_type": "code",
   "execution_count": 0,
   "metadata": {
    "application/vnd.databricks.v1+cell": {
     "cellMetadata": {
      "byteLimit": 2048000,
      "rowLimit": 10000
     },
     "inputWidgets": {},
     "nuid": "b26bc11f-64d0-42bf-9db8-dbb2b36d9396",
     "showTitle": false,
     "tableResultSettingsMap": {},
     "title": ""
    }
   },
   "outputs": [],
   "source": [
    "%scala\n",
    "import org.apache.spark.sql.functions.col;\n",
    "\n",
    "val aerodromeFailedAptDS = checks_input_features_dataset.as(\"apt\")\n",
    "                .join(aptInsideAerodromeDS.as(\"aptOnAerodrome\"), col(\"apt.featureId\").equalTo(col(\"aptOnAerodrome.featureId\")), \"inner\")\n",
    "                .select(col(\"apt.featureId\"),\n",
    "                col(\"apt.apt.location\"),\n",
    "                col(\"aptOnAerodrome.comment\"),\n",
    "                )\n",
    "\n",
    "display(aerodromeFailedAptDS)\n",
    "                "
   ]
  }
 ],
 "metadata": {
  "application/vnd.databricks.v1+notebook": {
   "computePreferences": null,
   "dashboards": [],
   "environmentMetadata": {
    "base_environment": "",
    "environment_version": "4"
   },
   "inputWidgetPreferences": null,
   "language": "python",
   "notebookMetadata": {
    "pythonIndentUnit": 4
   },
   "notebookName": "APT-on-Aerodrome-check-result-analysis",
   "widgets": {}
  },
  "language_info": {
   "name": "python"
  }
 },
 "nbformat": 4,
 "nbformat_minor": 0
}
