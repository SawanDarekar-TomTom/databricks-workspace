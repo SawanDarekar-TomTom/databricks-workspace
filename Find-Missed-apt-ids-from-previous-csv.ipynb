{
 "cells": [
  {
   "cell_type": "code",
   "execution_count": 0,
   "metadata": {
    "application/vnd.databricks.v1+cell": {
     "cellMetadata": {
      "byteLimit": 2048000,
      "rowLimit": 10000
     },
     "inputWidgets": {},
     "nuid": "de3ca488-7c17-4fc1-90d3-df963da98bd6",
     "showTitle": false,
     "tableResultSettingsMap": {},
     "title": ""
    }
   },
   "outputs": [],
   "source": [
    "dbutils.fs.mounts()"
   ]
  },
  {
   "cell_type": "code",
   "execution_count": 0,
   "metadata": {
    "application/vnd.databricks.v1+cell": {
     "cellMetadata": {
      "byteLimit": 2048000,
      "rowLimit": 10000
     },
     "inputWidgets": {},
     "nuid": "e8e2ad3e-e585-46fd-8c9a-5f12a79816bc",
     "showTitle": false,
     "tableResultSettingsMap": {},
     "title": ""
    }
   },
   "outputs": [],
   "source": [
    "directory_path = \"/mnt/opas-prod/opas-source/delete_retriggers\"\n",
    "\n",
    "files = dbutils.fs.ls(directory_path)\n",
    "for file in files:\n",
    "    print(file.name)"
   ]
  },
  {
   "cell_type": "code",
   "execution_count": 0,
   "metadata": {
    "application/vnd.databricks.v1+cell": {
     "cellMetadata": {
      "byteLimit": 2048000,
      "rowLimit": 10000
     },
     "inputWidgets": {},
     "nuid": "906e7d3b-580c-4570-af95-7e4d5b2bdc2f",
     "showTitle": false,
     "tableResultSettingsMap": {
      "0": {
       "dataGridStateBlob": "{\"version\":1,\"tableState\":{\"columnPinning\":{\"left\":[\"#row_number#\"],\"right\":[]},\"columnSizing\":{},\"columnVisibility\":{}},\"settings\":{\"columns\":{}},\"syncTimestamp\":1759225656425}",
       "filterBlob": null,
       "queryPlanFiltersBlob": null,
       "tableResultIndex": 0
      }
     },
     "title": ""
    }
   },
   "outputs": [],
   "source": [
    "import os\n",
    "from pyspark.sql import SparkSession\n",
    "from pyspark.sql import functions as F\n",
    "\n",
    "# Initialize Spark session\n",
    "spark = SparkSession.builder.appName(\"Read CSVs\").getOrCreate()\n",
    "\n",
    "# Define the folder path\n",
    "folder_path = \"/mnt/opas-prod/opas-source/delete_retriggers\"\n",
    "\n",
    "\n",
    "# Define a UDF to transform the values\n",
    "def transform_value(value):\n",
    "    if value.startswith('n'):\n",
    "        return value[1:]  # Remove the leading 'n'\n",
    "    return value.replace(':', '_')  # Replace ':' with '_'\n",
    "\n",
    "# Register the UDF\n",
    "transform_udf = F.udf(transform_value)\n",
    "\n",
    "\n",
    "deleted_ids_ds = spark.read.csv(folder_path, header=False, inferSchema=True).distinct()\n",
    "\n",
    "deleted_ids_ds.display()"
   ]
  },
  {
   "cell_type": "code",
   "execution_count": 0,
   "metadata": {
    "application/vnd.databricks.v1+cell": {
     "cellMetadata": {
      "byteLimit": 2048000,
      "rowLimit": 10000
     },
     "inputWidgets": {},
     "nuid": "ef3772f9-7e36-40ea-bbaf-c045f51f4138",
     "showTitle": false,
     "tableResultSettingsMap": {},
     "title": ""
    }
   },
   "outputs": [],
   "source": [
    "deleted_ids_ds = deleted_ids_ds.withColumn(\"updated_orbis_ids\", transform_udf(F.col(\"_c0\"))).select(\"updated_orbis_ids\").distinct()\n",
    "\n",
    "deleted_ids_ds.display()"
   ]
  },
  {
   "cell_type": "code",
   "execution_count": 0,
   "metadata": {
    "application/vnd.databricks.v1+cell": {
     "cellMetadata": {
      "byteLimit": 2048000,
      "rowLimit": 10000
     },
     "inputWidgets": {},
     "nuid": "080c25de-c6e4-45e7-9168-2a266d86fdca",
     "showTitle": false,
     "tableResultSettingsMap": {},
     "title": ""
    }
   },
   "outputs": [],
   "source": [
    "deleted_ids_ds.count() ##20372562. -> 12713684"
   ]
  },
  {
   "cell_type": "code",
   "execution_count": 0,
   "metadata": {
    "application/vnd.databricks.v1+cell": {
     "cellMetadata": {
      "byteLimit": 2048000,
      "rowLimit": 10000
     },
     "inputWidgets": {},
     "nuid": "5c790b85-ba2a-4062-a079-b19c5193c797",
     "showTitle": false,
     "tableResultSettingsMap": {},
     "title": ""
    }
   },
   "outputs": [],
   "source": [
    "\n",
    "deleted_ids_ds.write.mode(\"overwrite\").saveAsTable(\"delete_retriggers.ids_from_csv\")\n"
   ]
  },
  {
   "cell_type": "code",
   "execution_count": 0,
   "metadata": {
    "application/vnd.databricks.v1+cell": {
     "cellMetadata": {
      "byteLimit": 2048000,
      "rowLimit": 10000
     },
     "inputWidgets": {},
     "nuid": "6d2f4172-40a6-45c5-af3e-bea7123613eb",
     "showTitle": false,
     "tableResultSettingsMap": {},
     "title": ""
    }
   },
   "outputs": [],
   "source": [
    "delete_retriggers_layer_ids = spark.table(\"delete_retriggers.layer_ids\")\n",
    "\n",
    "not_yet_deleted_ids = deleted_ids_ds.join(\n",
    "    delete_retriggers_layer_ids,\n",
    "    delete_retriggers_layer_ids.Product_orbis_id == deleted_ids_ds.updated_orbis_ids,\n",
    "    \"inner\"\n",
    ")\n",
    "\n",
    "#left anti :  12712265\n",
    "#left : 12713684\n",
    "not_yet_deleted_ids.count()"
   ]
  },
  {
   "cell_type": "code",
   "execution_count": 0,
   "metadata": {
    "application/vnd.databricks.v1+cell": {
     "cellMetadata": {
      "byteLimit": 2048000,
      "rowLimit": 10000
     },
     "inputWidgets": {},
     "nuid": "8769cd56-32dd-498e-b099-4d6c890db655",
     "showTitle": false,
     "tableResultSettingsMap": {},
     "title": ""
    }
   },
   "outputs": [],
   "source": [
    "not_yet_deleted_ids.select(\"updated_orbis_ids\").coalesce(1).write.mode(\"overwrite\").csv(\"/mnt/opas-prod/opas-source/delete_retriggers/pending_delete_retriggers/\")"
   ]
  }
 ],
 "metadata": {
  "application/vnd.databricks.v1+notebook": {
   "computePreferences": null,
   "dashboards": [],
   "environmentMetadata": {
    "base_environment": "",
    "environment_version": "3"
   },
   "inputWidgetPreferences": null,
   "language": "python",
   "notebookMetadata": {
    "pythonIndentUnit": 4
   },
   "notebookName": "Find-Missed-apt-ids-from-previous-csv",
   "widgets": {}
  },
  "language_info": {
   "name": "python"
  }
 },
 "nbformat": 4,
 "nbformat_minor": 0
}
