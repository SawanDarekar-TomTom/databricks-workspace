{
 "cells": [
  {
   "cell_type": "code",
   "execution_count": 0,
   "metadata": {
    "application/vnd.databricks.v1+cell": {
     "cellMetadata": {
      "byteLimit": 2048000,
      "rowLimit": 10000
     },
     "inputWidgets": {},
     "nuid": "204c5111-d683-43f6-a30b-079ba4d55c21",
     "showTitle": false,
     "tableResultSettingsMap": {},
     "title": ""
    }
   },
   "outputs": [],
   "source": [
    "# finding file in production directory path\n",
    "directory_path = \"/mnt/source-delivery/production/\"\n",
    "\n",
    "files = dbutils.fs.ls(directory_path)\n",
    "\n",
    "for file in files:\n",
    "    print(file.name)"
   ]
  },
  {
   "cell_type": "code",
   "execution_count": 0,
   "metadata": {
    "application/vnd.databricks.v1+cell": {
     "cellMetadata": {
      "byteLimit": 2048000,
      "rowLimit": 10000
     },
     "inputWidgets": {},
     "nuid": "bab94007-756f-4b58-9cfb-c265bac28c79",
     "showTitle": false,
     "tableResultSettingsMap": {},
     "title": ""
    }
   },
   "outputs": [],
   "source": [
    "# Specify the directory path and the prefix\n",
    "directory_path = \"/mnt/source-delivery/production/prepped/\"\n",
    "prefix = \"Du6RYnGNtcRZFuyf03wib\"\n",
    "\n",
    "# Function to recursively search for files\n",
    "def find_files_with_prefix(path, prefix):\n",
    "    files = dbutils.fs.ls(path)\n",
    "    for file in files:\n",
    "        if file.isDir():\n",
    "            find_files_with_prefix(file.path, prefix)\n",
    "        elif file.name.startswith(prefix):\n",
    "            print(file.path)\n",
    "\n",
    "# Call the function to find files\n",
    "find_files_with_prefix(directory_path, prefix)"
   ]
  }
 ],
 "metadata": {
  "application/vnd.databricks.v1+notebook": {
   "computePreferences": null,
   "dashboards": [],
   "environmentMetadata": {
    "base_environment": "",
    "environment_version": "2"
   },
   "inputWidgetPreferences": null,
   "language": "python",
   "notebookMetadata": {
    "pythonIndentUnit": 4
   },
   "notebookName": "finding-folders",
   "widgets": {}
  },
  "language_info": {
   "name": "python"
  }
 },
 "nbformat": 4,
 "nbformat_minor": 0
}
